{
 "cells": [
  {
   "cell_type": "markdown",
   "metadata": {},
   "source": [
    "## Tracking objects using colospaces\n",
    "to buikd a robust object tracker, we need to know what charactersitics of the object can be used to track it accurately, this is where color spaces become relevant.\n",
    "RGB is the most popular but doestn work well with object tracking, we use HSV (and it is similar to what we perceive as human eyes)"
   ]
  },
  {
   "cell_type": "code",
   "execution_count": 1,
   "metadata": {},
   "outputs": [
    {
     "ename": "AttributeError",
     "evalue": "'cv2.VideoCapture' object has no attribute 'destroyAllWindows'",
     "output_type": "error",
     "traceback": [
      "\u001b[0;31m---------------------------------------------------------------------------\u001b[0m",
      "\u001b[0;31mAttributeError\u001b[0m                            Traceback (most recent call last)",
      "\u001b[0;32m<ipython-input-1-2078d598ee71>\u001b[0m in \u001b[0;36m<module>\u001b[0;34m\u001b[0m\n\u001b[1;32m     38\u001b[0m         \u001b[0;32mif\u001b[0m \u001b[0mc\u001b[0m \u001b[0;34m==\u001b[0m\u001b[0;36m27\u001b[0m\u001b[0;34m:\u001b[0m\u001b[0;34m\u001b[0m\u001b[0;34m\u001b[0m\u001b[0m\n\u001b[1;32m     39\u001b[0m             \u001b[0mcap\u001b[0m\u001b[0;34m.\u001b[0m\u001b[0mrelease\u001b[0m\u001b[0;34m(\u001b[0m\u001b[0;34m)\u001b[0m\u001b[0;34m\u001b[0m\u001b[0;34m\u001b[0m\u001b[0m\n\u001b[0;32m---> 40\u001b[0;31m             \u001b[0mcap\u001b[0m\u001b[0;34m.\u001b[0m\u001b[0mdestroyAllWindows\u001b[0m\u001b[0;34m(\u001b[0m\u001b[0;34m)\u001b[0m\u001b[0;34m\u001b[0m\u001b[0;34m\u001b[0m\u001b[0m\n\u001b[0m\u001b[1;32m     41\u001b[0m             \u001b[0;32mbreak\u001b[0m\u001b[0;34m\u001b[0m\u001b[0;34m\u001b[0m\u001b[0m\n\u001b[1;32m     42\u001b[0m     \u001b[0;31m#Close all the windows\u001b[0m\u001b[0;34m\u001b[0m\u001b[0;34m\u001b[0m\u001b[0;34m\u001b[0m\u001b[0m\n",
      "\u001b[0;31mAttributeError\u001b[0m: 'cv2.VideoCapture' object has no attribute 'destroyAllWindows'"
     ]
    }
   ],
   "source": [
    "import cv2\n",
    "import numpy as np\n",
    "\n",
    "#define a dunction to get the current frame from the webcam\n",
    "def get_frame(cap, scaling_factor):\n",
    "    #read the current frame from the video capture object\n",
    "    _, frame = cap.read()\n",
    "    # resize the image\n",
    "    frame = cv2.resize(frame, None, fx=scaling_factor, fy=scaling_factor, interpolation = cv2.INTER_AREA)\n",
    "    return frame\n",
    "\n",
    "if __name__ == '__main__':\n",
    "    #define the video capture object\n",
    "    cv2.namedWindow(\"camera\",1)\n",
    "    cap = cv2.VideoCapture(0)\n",
    "    #define the scaling factor for the  images\n",
    "    scaling_factor = 0.5\n",
    "    #keep reading the frames from the webcam\n",
    "    #until the user hits the ESK key\n",
    "    while True:\n",
    "        #grab the current frame\n",
    "        frame = get_frame(cap, scaling_factor)\n",
    "        #convert the image to HSV colorspace\n",
    "        hsv = cv2.cvtColor(frame, cv2.COLOR_BGR2HSV)\n",
    "        #Define range of skin color in HSV\n",
    "        lower = np.array([0,70,60])\n",
    "        upper = np.array([50,150,255])\n",
    "        #Threshold the HSV image to get only skin color\n",
    "        mask= cv2.inRange(hsv, lower, upper)\n",
    "        #Bitwise-AND between the mask and original image\n",
    "        img_bitwise_and = cv2.bitwise_and(frame, frame, mask=mask)\n",
    "        #run median blurring\n",
    "        img_median_blurred = cv2.medianBlur(img_bitwise_and, 5)\n",
    "        #Display the input and output\n",
    "        cv2.imshow(\"Input\", frame)\n",
    "        cv2.imshow(\"Output\",img_median_blurred)\n",
    "        #Chec if the user hit the Esc key\n",
    "        c = cv2.waitKey(5)\n",
    "        if c ==27:\n",
    "            cap.release()\n",
    "            break\n",
    "    #Close all the windows\n",
    "    cv2.destroyAllWindows()"
   ]
  },
  {
   "cell_type": "code",
   "execution_count": null,
   "metadata": {},
   "outputs": [],
   "source": []
  }
 ],
 "metadata": {
  "kernelspec": {
   "display_name": "Python 3",
   "language": "python",
   "name": "python3"
  },
  "language_info": {
   "codemirror_mode": {
    "name": "ipython",
    "version": 3
   },
   "file_extension": ".py",
   "mimetype": "text/x-python",
   "name": "python",
   "nbconvert_exporter": "python",
   "pygments_lexer": "ipython3",
   "version": "3.7.6"
  }
 },
 "nbformat": 4,
 "nbformat_minor": 4
}
