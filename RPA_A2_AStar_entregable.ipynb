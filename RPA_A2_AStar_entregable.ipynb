{
 "cells": [
  {
   "cell_type": "markdown",
   "metadata": {},
   "source": [
    "# Razonamiento y Planificacion Automatica\n",
    "## Actividad 2\n",
    " * Hever Gonzalez Garcia\n",
    " * Nathalia Orozco Morales\n",
    " * Ivan Jesus Zepeda Gonzalez"
   ]
  },
  {
   "cell_type": "markdown",
   "metadata": {},
   "source": [
    "__Descripcion__\n",
    "\n",
    "Utilizar la estrategia de búsqueda heurística A* con el fin de resolver el problema del puzzle-8. Utiliza como heurística el número de fichas mal colocadas respecto al estado objetivo. Considera que el coste de cada movimiento es 1.\n",
    "\n",
    "Se deberán crear tantas clases o estructuras de datos como sean necesarias para representar el espacio de estados y los nodos de exploración del árbol.\n",
    "\n",
    "El código deberá ejecutarse una vez y alcanzar el resultado, indicando la secuencia de acciones a realizar para alcanzar el objetivo utilizando una notación sencilla. \n",
    "Por ejemplo: «mover 7 hacia la derecha» o «mover 5 hacia la izquierda».\n",
    "\n"
   ]
  },
  {
   "cell_type": "code",
   "execution_count": 1,
   "metadata": {},
   "outputs": [],
   "source": [
    "import numpy as np\n",
    "import random\n",
    "from  queue import PriorityQueue"
   ]
  },
  {
   "cell_type": "markdown",
   "metadata": {},
   "source": [
    "\n",
    "### Se definen los estados del tablero\n",
    "\n",
    "Entendamos Tablero como estado. Pues se usa el estado del tablero. Cualquiera de los dos terminos es para referirse a lo mismo.\n",
    "\n",
    "Se empieza por asignar los valores permitidos (0-9) en las celdas del tablero.\n",
    "\n",
    "Se recibe el valor del tablero objetivo/goal y el del inicio.\n",
    "\n",
    "Si no se recibe un tablero inicial, se genera aleatoriamente este."
   ]
  },
  {
   "cell_type": "code",
   "execution_count": 2,
   "metadata": {},
   "outputs": [],
   "source": [
    "#Se puede hacer un puzzle 8 o un puzzle 15, [o puzzle(numero*4)-1]\n",
    "#Aumentando de 3 a 4, la dimension del tablero\n",
    "DIMENSION_TABLERO = 3"
   ]
  },
  {
   "cell_type": "code",
   "execution_count": 3,
   "metadata": {},
   "outputs": [],
   "source": [
    "INICIO=np.array([[2, 8, 3],[1, 6, 4],[7, 0, 5]])\n",
    "FINAL=np.array([[1, 2, 3],[8, 0, 4],[7, 6, 5]])\n",
    "INICIO2=np.array([[1, 0, 2],[6, 3, 4],[7, 5, 8]])\n",
    "FINAL2=np.array([[1, 2, 3],[4, 5, 6],[7, 8, 0]])"
   ]
  },
  {
   "cell_type": "code",
   "execution_count": 4,
   "metadata": {},
   "outputs": [
    {
     "name": "stdout",
     "output_type": "stream",
     "text": [
      "Inicio\n",
      " [[2 8 3]\n",
      " [1 6 4]\n",
      " [7 0 5]]\n",
      "Objetivo\n",
      " [[1 2 3]\n",
      " [8 0 4]\n",
      " [7 6 5]]\n"
     ]
    }
   ],
   "source": [
    "#Se asigna valores a las celdas, utilizando el rango disponible 0-9\n",
    "valor_celdas = list(random.sample(range(DIMENSION_TABLERO*DIMENSION_TABLERO),DIMENSION_TABLERO*DIMENSION_TABLERO))  \n",
    "tablero_final = FINAL\n",
    "tablero_inicial = INICIO\n",
    "\n",
    "print(\"Inicio\\n\",tablero_inicial)\n",
    "print(\"Objetivo\\n\",tablero_final)"
   ]
  },
  {
   "cell_type": "markdown",
   "metadata": {},
   "source": [
    "### Calcular Distancia Manhattan\n",
    "\n",
    "La distancia Manhattan se obtiene mediante:\n",
    "La suma del valor absoluto de la resta de objetivoX menos EstadoActualX, con el valor absoluto de la resta de objetivoY menos EstadoActualY.\n",
    "\n",
    "En otras palabras, esta distancia _\"si tomamos dos puntos p y q en una cuadrícula con coordenadas p=(p1,p2) y q=(q1,q2), la distancia Manhattan entre dichos puntos es la suma de los valores absolutos de las diferencias entre las coordenadas. Es decir:\n",
    "d(p,q)=|q1-p1|+|q2-p2|\"_     [1]\n",
    "\n",
    "El metodo calcular_distancia_manhattan, recibe un nodo del cual obtiene valores necesarios.\n",
    "\n",
    "Primero usando shape, se obtiene el tamano del puzzle (3x3)\n",
    "se hace un for loop con estos valores como limites del rango\n",
    "si el valor de la celda no es el campo vacio, se revisa el valor objetivo de esta celda para calcularse en la formula de la distancia manhattan. Usando valores del estado actual y el estado objetivo."
   ]
  },
  {
   "cell_type": "code",
   "execution_count": 5,
   "metadata": {},
   "outputs": [],
   "source": [
    "def calcular_distancia_manhattan(nodo):\n",
    "    sum_manhattan = 0\n",
    "    (dimx, dimy) = nodo.matrix.shape\n",
    "    for row in range(dimx):\n",
    "        for col in range(dimy):\n",
    "            if nodo.matrix[col][row] != 0:\n",
    "                x, y = posiciones_objetivo[nodo.matrix[col][row]]\n",
    "                sum_manhattan += abs(x - row) + abs(y - col)\n",
    "    return sum_manhattan"
   ]
  },
  {
   "cell_type": "markdown",
   "metadata": {},
   "source": [
    "### Creacion del Nodo\n",
    "El nodo contiene datos del estado actual, el nodo padre, nivel/profundidad y los movimientos permitidos.\n",
    "Se definen varios metodos:\n",
    "* el constructor __ __init__ __ : Construye un nodo con los valores recibidos, en caso que no reciba genera estos del metodo indice_de_celda_vacia\n",
    "* __calcular_costo__: regresa el valor de costo de funcion\n",
    "* __indice_de_celda_vacia__: return coordenadas. llama indice_de_celda con la posicion 0\n",
    "* __indice_de_celda__: return coordenadas. mediante un forloop hace una busqueda dentro del tablero hasta encontrar el valor solicitado\n",
    "* __se_puede_mover__: return boolean. Revisa los posibles movimientos de la celda en posicion a las coordenadas recibidas. Verificando que estas esten dentro de los limites del tablero\n",
    "* se hace override del operador __ __lt__ __ \"less than\". Aqui regresa un booleano si al objeto a comparar tiene mayor coste heuristico. __Se puede filtrar desde aqui las acciones, haciendo un greedy__\n",
    "\n",
    "Sus propiedades son:\n",
    "matrix, parent, nivel, x, y, distancia_heuristica, costo_de_funcion,accion\n"
   ]
  },
  {
   "cell_type": "code",
   "execution_count": 6,
   "metadata": {},
   "outputs": [],
   "source": [
    "class Nodo(object):\n",
    "\n",
    "    def __init__(self, matrix, x=None, y=None, nuevox=None, nuevoy=None,nivel=0, parent=None ):\n",
    "        self.matrix = matrix.copy()\n",
    "        self.parent = parent\n",
    "        self.nivel = nivel        # el nivel actual del tablero\n",
    "        self.celda=0\n",
    "        # intercambio el valor de la nueva posicion\n",
    "        if x == None or y==None or nuevox ==None or nuevoy == None:\n",
    "            (nuevox, nuevoy)= (x, y) = self.indice_de_celda_vacia()      \n",
    "        #intercambiar valor de celdas en la matriz con indices nuevox,nuevoy por x,y\n",
    "        valor = self.matrix[nuevox,nuevoy]\n",
    "        self.matrix[nuevox,nuevoy] = self.matrix[x,y]\n",
    "        self.matrix[x,y] = valor\n",
    "        self.celda=valor\n",
    "        # la nueva posición que ocupa la solución\n",
    "        self.x = nuevox\n",
    "        self.y = nuevoy     \n",
    "        self.distancia_heuristica = calcular_distancia_manhattan(self) # can be replace with the hamming distance\n",
    "        self.costo_de_funcion = self.distancia_heuristica + self.nivel        \n",
    "        #Registrar el movimento de la celda(1,0),(0,1),(-1,0),(0,-1): arriba,izquierda,abajo,derecha\n",
    "        self.accion=\"\"\n",
    "        \n",
    "    def calcular_costo(self):        \n",
    "        return self.costo_de_funcion\n",
    "    \n",
    "    def indice_de_celda_vacia (self):\n",
    "        return self.indice_de_celda(0)\n",
    "\n",
    "    def indice_de_celda (self, celda):\n",
    "        for r in range(3):\n",
    "            for c in range(3):\n",
    "                if self.matrix[r][c] == celda:\n",
    "                    return r, c\n",
    "    \n",
    "    def direccion(self,x,y):\n",
    "        #El resultado es inverso, pues se usara para la casilla con numero, no para la celda vacia (con el 0)\n",
    "        if (x==1 and y==0):\n",
    "            self.accion=\"arriba\" \n",
    "        elif (x==-1 and y==0):\n",
    "            self.accion=\"abajo\"\n",
    "        elif (x==0 and y==1):\n",
    "            self.accion=\"izquierda\"\n",
    "        elif (x==0 and y==-1):\n",
    "            self.accion=\"derecha\"\n",
    "        else:\n",
    "            self.accion=\"quieto? x:\"+str(x)+\", y:\",str(y)\n",
    "\n",
    "    def es_seguro_moverse(self, x,y):\n",
    "        return (x >= 0 and x < self.matrix.shape[0] and y>= 0 and y < self.matrix.shape[1])\n",
    "    \n",
    "    def __lt__(self, nodo2):\n",
    "        return (self.costo_de_funcion, self.distancia_heuristica) < (nodo2.costo_de_funcion, nodo2.distancia_heuristica)   \n",
    "    "
   ]
  },
  {
   "cell_type": "code",
   "execution_count": 7,
   "metadata": {},
   "outputs": [],
   "source": [
    "#en el bloques siguientes\n",
    "posiciones_objetivo = {tablero_final[col][row]: (row, col) for col in range(3) for row in range(3)} #un diccionario con las posiciones de cada celda del tablero_final(objetivo)\n",
    "#se hace un diccionario de coordenadas\n",
    "#{1: (0, 0), 2: (1, 0), 3: (2, 0), 8: (0, 1), 0: (1, 1), 4: (2, 1), 7: (0, 2), 6: (1, 2), 5: (2, 2)}"
   ]
  },
  {
   "cell_type": "markdown",
   "metadata": {},
   "source": [
    "## Imprimir rastro de estados\n",
    "Esta funcion hace de forma recursiva una impresion de las celdas en cada nodo padre.\n",
    "\n",
    "Se detiene cuando ya no tiene nodo padre, siendo el fin de la solucion tomada. \n",
    "Siendo asi en cada iteración del algoritmo, indica claramente el nodo que ha sido expandido!"
   ]
  },
  {
   "cell_type": "code",
   "execution_count": 8,
   "metadata": {},
   "outputs": [],
   "source": [
    "def print_nodo(nodo):        \n",
    "    if nodo != None:        \n",
    "        print_nodo(nodo.parent)  \n",
    "        if(nodo.accion!=\"\"):\n",
    "            print('\\nPasos/Nivel de Profundidad: ',nodo.nivel)\n",
    "            print(\"Se movio \",nodo.celda, \" a \",nodo.accion)\n",
    "        else:\n",
    "            print(\"INICIO\")\n",
    "        print(nodo.matrix)\n",
    "   "
   ]
  },
  {
   "cell_type": "markdown",
   "metadata": {},
   "source": [
    "Aqui se define los movimientos posibles, mediante valores en los ejes, para columnas y filas.\n",
    "Se hace un set de estados visitados para evitar repetir y hacer ciclos inecesarios.\n",
    "\n",
    "Se hace un queue de nodos.\n",
    "Al mismo tiempo se agrega el nodo inicial (nodo_actual) al queue con su costo\n"
   ]
  },
  {
   "cell_type": "code",
   "execution_count": 9,
   "metadata": {},
   "outputs": [
    {
     "name": "stdout",
     "output_type": "stream",
     "text": [
      "Tablero Inicial\n",
      "[[2 8 3]\n",
      " [1 6 4]\n",
      " [7 0 5]]\n",
      "Tablero Final\n",
      "[[1 2 3]\n",
      " [8 0 4]\n",
      " [7 6 5]]\n"
     ]
    }
   ],
   "source": [
    "# movimientos posibles. su combinacion se hace en el bloque de abajo, en un for range(4), \n",
    "#intentando 4 sentidos de coordenadas (1,0),(0,1),(-1,0),(0,-1)\n",
    "filas = (1,0,-1,0)\n",
    "columnas = (0,1,0,-1)\n",
    "visitados = set()\n",
    "\n",
    "queue = PriorityQueue()\n",
    "\n",
    "nodo_actual = Nodo(tablero_inicial,nivel=0)\n",
    "print('Tablero Inicial')\n",
    "print(nodo_actual.matrix)\n",
    "\n",
    "nodo_final = Nodo(tablero_final,nivel=0)\n",
    "print('Tablero Final')\n",
    "print(nodo_final.matrix)\n",
    "\n",
    "queue.put((nodo_actual.calcular_costo(),nodo_actual))"
   ]
  },
  {
   "cell_type": "markdown",
   "metadata": {},
   "source": [
    "### Logica iterativa\n",
    "habiendo llenado con 1 elemento en la queue, el siguiente while loop continuara hasta ser detenido.\n",
    "siendo el break posible cuando el tablero sea igual a la solucion, comparando su \n",
    "distancia_heuruistica a 0. __[Entre mas corta, mas acercada esta al objetivo, ese es usualmente el camino a tomar por el algoritmo A* que es mezcla de Greedy y Dijkstra]__\n",
    "\n",
    "El estado es transformado en un string, para almacenarse en visitados.\n",
    "\n",
    "Aqui se va midiendo los posibles movimientos de la celda, mostrando las opciones con su peso heuristico. \n",
    "Si el estado se repite, se ignora y salta a la siguiente iteracion.\n",
    "Si la heuristica es 0, se llego al objetivo y termina el loop\n",
    "Si no existe en visitados, se agrega \n",
    "Por ultimo se miden los movimientos, Si es posible moverse a esa posicion, se crea un nuevo nodo que se agrega a la queue, junto con este el costo de ese estado/tablero.\n",
    "\n",
    "Key, es la string-izacion de los tableros/estados, y guardar estos en visitados, para facil ubicacion en caso de que ya este repetido"
   ]
  },
  {
   "cell_type": "code",
   "execution_count": 10,
   "metadata": {},
   "outputs": [
    {
     "name": "stdout",
     "output_type": "stream",
     "text": [
      "# 1  Costo total Heuristico: 5 , Costo de Paso: 5\n",
      "[[2 8 3]\n",
      " [1 6 4]\n",
      " [7 0 5]]\n",
      "# 2  Costo total Heuristico: 5 , Costo de Paso: 5\n",
      "[[2 8 3]\n",
      " [1 6 4]\n",
      " [7 0 5]]\n",
      "# 3  Costo total Heuristico: 5 , Costo de Paso: 5\n",
      "[[2 8 3]\n",
      " [1 6 4]\n",
      " [7 0 5]]\n",
      "# 4  Costo total Heuristico: 5 , Costo de Paso: 4\n",
      "[[2 8 3]\n",
      " [1 0 4]\n",
      " [7 6 5]]\n",
      "# 5  Costo total Heuristico: 5 , Costo de Paso: 4\n",
      "[[2 8 3]\n",
      " [1 0 4]\n",
      " [7 6 5]]\n",
      "# 6  Costo total Heuristico: 5 , Costo de Paso: 4\n",
      "[[2 8 3]\n",
      " [1 0 4]\n",
      " [7 6 5]]\n",
      "# 7  Costo total Heuristico: 5 , Costo de Paso: 4\n",
      "[[2 8 3]\n",
      " [1 0 4]\n",
      " [7 6 5]]\n",
      "# 8  Costo total Heuristico: 5 , Costo de Paso: 3\n",
      "[[2 0 3]\n",
      " [1 8 4]\n",
      " [7 6 5]]\n",
      "# 9  Costo total Heuristico: 5 , Costo de Paso: 3\n",
      "[[2 0 3]\n",
      " [1 8 4]\n",
      " [7 6 5]]\n",
      "# 10  Costo total Heuristico: 5 , Costo de Paso: 3\n",
      "[[2 0 3]\n",
      " [1 8 4]\n",
      " [7 6 5]]\n",
      "# 11  Costo total Heuristico: 5 , Costo de Paso: 2\n",
      "[[0 2 3]\n",
      " [1 8 4]\n",
      " [7 6 5]]\n",
      "# 12  Costo total Heuristico: 5 , Costo de Paso: 2\n",
      "[[0 2 3]\n",
      " [1 8 4]\n",
      " [7 6 5]]\n",
      "# 13  Costo total Heuristico: 5 , Costo de Paso: 1\n",
      "[[1 2 3]\n",
      " [0 8 4]\n",
      " [7 6 5]]\n",
      "# 14  Costo total Heuristico: 5 , Costo de Paso: 1\n",
      "[[1 2 3]\n",
      " [0 8 4]\n",
      " [7 6 5]]\n",
      "# 15  Costo total Heuristico: 5 , Costo de Paso: 1\n",
      "[[1 2 3]\n",
      " [0 8 4]\n",
      " [7 6 5]]\n"
     ]
    }
   ],
   "source": [
    "#Queue es una tupla, conteniendo elementos inmutables, con un int como key, y un nodo como value.\n",
    "#      nodo_actual.calcular_costo(),       nodo_actual\n",
    "pasos_totales=0\n",
    "while not queue.empty():\n",
    "    next_item = queue.get()  \n",
    "    \n",
    "    key = ''.join([str(next_item[1].matrix[col,row]) for col in range(3) for row in range(3)])    \n",
    "   #NOTA: IMPRIMIR AQUI, PUEDE MOSTRAR ESTADOS REPETIDOS\n",
    "    print(\"#\",pasos_totales,' Costo total Heuristico:',next_item[0],\", Costo de Paso:\", next_item[1].distancia_heuristica)\n",
    "    print(next_item[1].matrix)    \n",
    "    \n",
    "    if key in visitados:\n",
    "        continue        \n",
    "    if  next_item[1].distancia_heuristica == 0:        \n",
    "        break\n",
    "    \n",
    "    visitados.add(key)\n",
    "    for i in range(4):\n",
    "        if(next_item[1].es_seguro_moverse(next_item[1].x+columnas[i],next_item[1].y+filas[i])):     #Aqui llamo al __lt__?\n",
    "            #        Nodo(self, matrix,             x=None,         y=None,         nuevox=None,                nuevoy=None,             nivel=0,              parent=None): \n",
    "            nodo_actual = Nodo(next_item[1].matrix, next_item[1].x, next_item[1].y, next_item[1].x+columnas[i], next_item[1].y+filas[i], next_item[1].nivel+1, next_item[1])            \n",
    "            nodo_actual.direccion(columnas[i],filas[i])\n",
    "            queue.put((nodo_actual.calcular_costo(),nodo_actual))\n",
    "            pasos_totales+=1\n",
    "            #Para imprimir TODOS los intentos, aun los repetidos, imprimir aqui los pasos\n"
   ]
  },
  {
   "cell_type": "markdown",
   "metadata": {},
   "source": [
    "Algunos numeros (#2,#3...), no son visibles, pues cuenta los pasos, aun cuando este estado ya sea repetido o agregado a la queue"
   ]
  },
  {
   "cell_type": "markdown",
   "metadata": {},
   "source": [
    "## Solucion\n",
    "\n",
    "La visualizacion de la solucion se da llamando el metodo __print_nodo__ enviandole el ultimo item que se registro. Este ultimo item, contiene todos los nodos previos en el atributo parent. Y de forma recursiva, se ira imprimiendo cada nodo, hasta llegar a uno que no tenga parent.\n",
    "Se muestra el nivel de profundidad o pasos, asi como la accion tomada para cada paso, y visualizacion de la matriz."
   ]
  },
  {
   "cell_type": "code",
   "execution_count": 11,
   "metadata": {},
   "outputs": [
    {
     "name": "stdout",
     "output_type": "stream",
     "text": [
      "\n",
      "*************************************\n",
      " Solucion\n",
      "*************************************\n",
      "\n",
      "INICIO\n",
      "[[2 8 3]\n",
      " [1 6 4]\n",
      " [7 0 5]]\n",
      "\n",
      "Pasos/Nivel de Profundidad:  1\n",
      "Se movio  6  a  abajo\n",
      "[[2 8 3]\n",
      " [1 0 4]\n",
      " [7 6 5]]\n",
      "\n",
      "Pasos/Nivel de Profundidad:  2\n",
      "Se movio  8  a  abajo\n",
      "[[2 0 3]\n",
      " [1 8 4]\n",
      " [7 6 5]]\n",
      "\n",
      "Pasos/Nivel de Profundidad:  3\n",
      "Se movio  2  a  derecha\n",
      "[[0 2 3]\n",
      " [1 8 4]\n",
      " [7 6 5]]\n",
      "\n",
      "Pasos/Nivel de Profundidad:  4\n",
      "Se movio  1  a  arriba\n",
      "[[1 2 3]\n",
      " [0 8 4]\n",
      " [7 6 5]]\n",
      "\n",
      "Pasos/Nivel de Profundidad:  5\n",
      "Se movio  8  a  izquierda\n",
      "[[1 2 3]\n",
      " [8 0 4]\n",
      " [7 6 5]]\n",
      "\n",
      "OBJETIVO:\n",
      "[[1 2 3]\n",
      " [8 0 4]\n",
      " [7 6 5]]\n",
      "\n",
      "-------------------------------------\n",
      " Se completo el juego en  5  pasos.\n",
      " Movimientos intentados: 15 \n",
      "-------------------------------------\n",
      "\n"
     ]
    }
   ],
   "source": [
    "print(\"\\n*************************************\\n\",\n",
    "      \"Solucion\\n*************************************\\n\")      \n",
    "print_nodo(next_item[1]) #Imprime el ultimo nodo de la queue, que fue con el que termino el loop. En otras palabras, la solucion.\n",
    "print(\"\\nOBJETIVO:\")\n",
    "print(next_item[1].matrix)\n",
    "print(\"\\n-------------------------------------\\n\",\n",
    "      \"Se completo el juego en \",next_item[1].nivel, \" pasos.\\n\",\n",
    "      \"Movimientos intentados:\",pasos_totales,\n",
    "      \"\\n-------------------------------------\\n\")"
   ]
  },
  {
   "cell_type": "markdown",
   "metadata": {},
   "source": [
    "## Comparativa\n",
    "Se ha realizado este puzzle de diversas formas o approaches. \n",
    "Los principales fueron:\n",
    "* 1. Crear Nodos y Queues manualmente, sin uso de ninguna libreria\n",
    "* 2. Utilizar la libreria __PriorityQueues__ para gestionar el orden de los nodos\n",
    "* 3. Utilizar la libreria __simpleai__ la cual presenta gran facilidad para resolver el problema\n",
    "\n",
    "Decidimos optar por el approach 2, el cual nos podriamos enfocar en la logica del algoritmo de A*, la distancia Manhattan, y el proceso Heuristico, sin entrar en control de las queues\n",
    "\n",
    "Aun asi, mostramos el mismo acercamiento con la libreria simpleai, para comparar nuestro resultado con esta."
   ]
  },
  {
   "cell_type": "markdown",
   "metadata": {},
   "source": [
    "# Conclusiones\n",
    "La solucion de un puzzle-8 utilizando A*, es relativamente sencillo.\n",
    "Se necesita crear una lista que almacene nodos, y los pasos para llegar de un estado inicial a un objetivo\n",
    "El analisis se realiza cambiando un elemento (la celda vacia, o con 0) a posibles ubicaciones que\n",
    "esten adyacentes de esta. Y se decide optar por la que presente el valor mas chico de la distancia Manhattan.\n"
   ]
  },
  {
   "cell_type": "markdown",
   "metadata": {},
   "source": [
    "# Practica Grupal\n",
    "\n",
    "* Todos los miembros se han integrado al trabajo del grupo\n",
    " - Si\n",
    "\n",
    "* Todos los miembros participan activamente\n",
    " - Si\n",
    "\n",
    "* Todos los miembros respetan otras ideas aportadas\n",
    " - Si\n",
    "\n",
    "* Todos los miembros participan en la elaboración del informe\n",
    " - Si\n",
    "\n",
    "* Me he preocupado por realizar un trabajo cooperativo con mis compañeros\n",
    " - Si\n",
    "\n",
    "* Señala si consideras que algún aspecto del trabajo en grupo no ha sido adecuado\n"
   ]
  },
  {
   "cell_type": "raw",
   "metadata": {},
   "source": []
  },
  {
   "cell_type": "markdown",
   "metadata": {},
   "source": [
    "## Referencias y bibliografia\n",
    "* https://elpais.com/elpais/2016/10/18/el_aleph/1476813443_840074.html\n",
    "* Artificial Intelligence with Python, Oreilly\n",
    "* - from simpleai.search import astar\n",
    "* - from simpleai.search import SearchProblem"
   ]
  }
 ],
 "metadata": {
  "kernelspec": {
   "display_name": "Python 3",
   "language": "python",
   "name": "python3"
  },
  "language_info": {
   "codemirror_mode": {
    "name": "ipython",
    "version": 3
   },
   "file_extension": ".py",
   "mimetype": "text/x-python",
   "name": "python",
   "nbconvert_exporter": "python",
   "pygments_lexer": "ipython3",
   "version": "3.7.6"
  }
 },
 "nbformat": 4,
 "nbformat_minor": 2
}
